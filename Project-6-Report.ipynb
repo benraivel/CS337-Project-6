{
 "cells": [
  {
   "cell_type": "code",
   "execution_count": 1,
   "metadata": {},
   "outputs": [],
   "source": [
    "%load_ext autoreload\n",
    "\n",
    "import threading\n",
    "import time\n",
    "import numpy as np"
   ]
  },
  {
   "cell_type": "markdown",
   "metadata": {},
   "source": [
    "**First Demonstrate the Race Condition**"
   ]
  },
  {
   "cell_type": "code",
   "execution_count": 2,
   "metadata": {},
   "outputs": [
    {
     "name": "stdout",
     "output_type": "stream",
     "text": [
      "Iteration 0: x = 200000\n",
      "Iteration 1: x = 200000\n",
      "Iteration 2: x = 184488\n",
      "Iteration 3: x = 200000\n",
      "Iteration 4: x = 131293\n",
      "Iteration 5: x = 200000\n",
      "Iteration 6: x = 200000\n",
      "Iteration 7: x = 200000\n",
      "Iteration 8: x = 160228\n",
      "Iteration 9: x = 163083\n"
     ]
    }
   ],
   "source": [
    "x = 0\n",
    "\n",
    "def increment():\n",
    "    global x\n",
    "    x += 1\n",
    " \n",
    "def thread1_task():\n",
    "    for _ in range(100000):\n",
    "        increment()\n",
    " \n",
    "def thread2_task():\n",
    "    for _ in range(100000):\n",
    "        increment()\n",
    " \n",
    "def main_task():\n",
    "    global x\n",
    "    x = 0\n",
    "   \n",
    "    t1 = threading.Thread(target=thread1_task)\n",
    "    t2 = threading.Thread(target=thread2_task)\n",
    " \n",
    "    t1.start()\n",
    "    t2.start()\n",
    " \n",
    "    t1.join()\n",
    "    t2.join()\n",
    "\n",
    "for i in range(10):\n",
    "    main_task()\n",
    "    print(\"Iteration {0}: x = {1}\".format(i,x))"
   ]
  },
  {
   "cell_type": "markdown",
   "metadata": {},
   "source": [
    "**Implement the 1st \"Solution\"**"
   ]
  },
  {
   "cell_type": "code",
   "execution_count": 3,
   "metadata": {},
   "outputs": [],
   "source": [
    "class Solution_1:\n",
    "\n",
    "    def __init__(self):\n",
    "        self.turn = 0\n",
    "\n",
    "    def lock(self, thread_ID):\n",
    "        while self.turn != thread_ID: pass  # spin\n",
    "\n",
    "    def unlock(self, thread_ID):\n",
    "        if thread_ID == 1: self.turn = 0    \n",
    "        else: self.turn = 1"
   ]
  },
  {
   "cell_type": "markdown",
   "metadata": {},
   "source": [
    "**Use Solution 1 with Race Condition**"
   ]
  },
  {
   "cell_type": "code",
   "execution_count": 4,
   "metadata": {},
   "outputs": [],
   "source": [
    "x = 0\n",
    "lock = Solution_1()\n",
    "\n",
    "def increment():\n",
    "    global x\n",
    "    x += 1\n",
    " \n",
    "def thread1_task(lock, my_num):\n",
    "   \n",
    "    for _ in range(1000):\n",
    "        lock.lock(my_num)       # lock before critical section\n",
    "        increment()\n",
    "        lock.unlock(my_num)     # unlock after critical section\n",
    " \n",
    "def thread2_task(lock, my_num):\n",
    "   \n",
    "    for _ in range(1000):\n",
    "        lock.lock(my_num)       # lock before critical section\n",
    "        increment()\n",
    "        lock.unlock(my_num)     # unlock after critical section\n",
    " \n",
    "def main_task():\n",
    "    global x\n",
    "    global lock\n",
    " \n",
    "    x = 0\n",
    "   \n",
    "    t1 = threading.Thread(target=thread1_task, args=(lock, 0, ))\n",
    "    t2 = threading.Thread(target=thread2_task, args=(lock, 1, ))\n",
    " \n",
    "    t1.start()\n",
    "    t2.start()\n",
    " \n",
    "    t1.join()\n",
    "    t2.join()"
   ]
  },
  {
   "cell_type": "markdown",
   "metadata": {},
   "source": [
    "**Test the First \"Solution\"**"
   ]
  },
  {
   "cell_type": "code",
   "execution_count": 8,
   "metadata": {},
   "outputs": [
    {
     "name": "stdout",
     "output_type": "stream",
     "text": [
      "Iteration 0: x = 2000\n",
      "Iteration 1: x = 2000\n",
      "Iteration 2: x = 2000\n",
      "Iteration 3: x = 2000\n",
      "Iteration 4: x = 2000\n",
      "Iteration 5: x = 2000\n",
      "Iteration 6: x = 2000\n",
      "Iteration 7: x = 2000\n",
      "Iteration 8: x = 2000\n",
      "Iteration 9: x = 2000\n"
     ]
    }
   ],
   "source": [
    "for i in range(10):\n",
    "    main_task()\n",
    "    print(\"Iteration {0}: x = {1}\".format(i,x))"
   ]
  },
  {
   "cell_type": "markdown",
   "metadata": {},
   "source": [
    "Mutual exclusion acheived! with only *minor* performance consequences. I had to reduce iterations to 1000 (2 orders of magnitude) to get it to run in reasonable time. "
   ]
  },
  {
   "cell_type": "markdown",
   "metadata": {},
   "source": [
    "**Implement the Second \"Solution\"**"
   ]
  },
  {
   "cell_type": "code",
   "execution_count": 2,
   "metadata": {},
   "outputs": [],
   "source": [
    "class Solution_2:\n",
    "\n",
    "    def __init__(self):\n",
    "        self.flag = [False, False]\n",
    "\n",
    "    def lock(self, thread_ID):\n",
    "        \n",
    "        if thread_ID == 0:\n",
    "            self.flag[0] = True\n",
    "            while self.flag[1]: pass\n",
    "        else:\n",
    "            self.flag[1] = True\n",
    "            while self.flag[0]: pass\n",
    "\n",
    "    def unlock(self, thread_ID):\n",
    "\n",
    "        if thread_ID == 0:\n",
    "            self.flag[0] = False\n",
    "        else:\n",
    "            self.flag[1] = False"
   ]
  },
  {
   "cell_type": "markdown",
   "metadata": {},
   "source": [
    "**Use Second \"Solution\" with Race Condition**"
   ]
  },
  {
   "cell_type": "code",
   "execution_count": 3,
   "metadata": {},
   "outputs": [],
   "source": [
    "x = 0\n",
    "lock = Solution_2()\n",
    "\n",
    "def increment():\n",
    "    global x\n",
    "    x += 1\n",
    " \n",
    "def thread1_task(lock, my_num):\n",
    "   \n",
    "    for _ in range(10000):\n",
    "        lock.lock(my_num)\n",
    "        increment()\n",
    "        lock.unlock(my_num)\n",
    " \n",
    "def thread2_task(lock, my_num):\n",
    "   \n",
    "    for _ in range(10000):\n",
    "        lock.lock(my_num)\n",
    "        increment()\n",
    "        lock.unlock(my_num)\n",
    " \n",
    "def main_task():\n",
    "    global x\n",
    "    global lock\n",
    " \n",
    "    x = 0\n",
    "   \n",
    "    t1 = threading.Thread(target=thread1_task, args=(lock, 0, ))\n",
    "    t2 = threading.Thread(target=thread2_task, args=(lock, 1, ))\n",
    " \n",
    "    t1.start()\n",
    "    t2.start()\n",
    " \n",
    "    t1.join()\n",
    "    t2.join()"
   ]
  },
  {
   "cell_type": "code",
   "execution_count": 4,
   "metadata": {},
   "outputs": [
    {
     "name": "stdout",
     "output_type": "stream",
     "text": [
      "Iteration 0: x = 20000\n"
     ]
    }
   ],
   "source": [
    "for i in range(10):\n",
    "    main_task()\n",
    "    print(\"Iteration {0}: x = {1}\".format(i,x))"
   ]
  },
  {
   "cell_type": "markdown",
   "metadata": {},
   "source": [
    "**Use Peterson's solution**"
   ]
  },
  {
   "cell_type": "code",
   "execution_count": 10,
   "metadata": {},
   "outputs": [],
   "source": [
    "from peterson import Peterson\n",
    "\n",
    "lock = Peterson()\n",
    "\n",
    "x=0\n",
    "\n",
    "def increment():\n",
    "    global x\n",
    "    x += 1\n",
    " \n",
    "def thread1_task(lock, my_num):\n",
    "   \n",
    "    for _ in range(10000):\n",
    "\n",
    "        lock.lock(my_num)\n",
    "        increment()\n",
    "        lock.unlock(my_num)\n",
    " \n",
    "def thread2_task(lock, my_num):\n",
    "   \n",
    "    for _ in range(10000):\n",
    "\n",
    "        lock.lock(my_num)\n",
    "        increment()\n",
    "        lock.unlock(my_num)\n",
    " \n",
    "def main_task():\n",
    "    global x\n",
    "    global lock\n",
    " \n",
    "    x = 0\n",
    "   \n",
    "    t1 = threading.Thread(target=thread1_task, args=(lock, 0, ))\n",
    "    t2 = threading.Thread(target=thread2_task, args=(lock, 1, ))\n",
    " \n",
    "    t1.start()\n",
    "    t2.start()\n",
    " \n",
    "    t1.join()\n",
    "    t2.join()"
   ]
  },
  {
   "cell_type": "code",
   "execution_count": 11,
   "metadata": {},
   "outputs": [
    {
     "name": "stdout",
     "output_type": "stream",
     "text": [
      "Iteration 0: x = 20000\n",
      "Iteration 1: x = 20000\n",
      "Iteration 2: x = 20000\n",
      "Iteration 3: x = 20000\n",
      "Iteration 4: x = 20000\n",
      "Iteration 5: x = 20000\n",
      "Iteration 6: x = 20000\n",
      "Iteration 7: x = 20000\n",
      "Iteration 8: x = 20000\n",
      "Iteration 9: x = 20000\n"
     ]
    }
   ],
   "source": [
    "for i in range(10):\n",
    "    main_task()\n",
    "    print(\"Iteration {0}: x = {1}\".format(i,x))"
   ]
  },
  {
   "cell_type": "markdown",
   "metadata": {},
   "source": [
    "**Use Bakery Algorithm**"
   ]
  },
  {
   "cell_type": "code",
   "execution_count": 16,
   "metadata": {},
   "outputs": [],
   "source": [
    "from bakery import Bakery\n",
    "\n",
    "x=0\n",
    "lock = Bakery(2)\n",
    "\n",
    "def increment():\n",
    "    global x\n",
    "    x += 1\n",
    " \n",
    "def thread1_task(lock, my_num):\n",
    "   \n",
    "    for _ in range(10000):\n",
    "\n",
    "        lock.lock(my_num)\n",
    "        increment()\n",
    "        lock.unlock(my_num)\n",
    " \n",
    "def thread2_task(lock, my_num):\n",
    "   \n",
    "    for _ in range(10000):\n",
    "\n",
    "        lock.lock(my_num)\n",
    "        increment()\n",
    "        lock.unlock(my_num)\n",
    " \n",
    "def main_task():\n",
    "    global x\n",
    "    global lock\n",
    " \n",
    "    x = 0\n",
    "   \n",
    "    t1 = threading.Thread(target=thread1_task, args=(lock, 0, ))\n",
    "    t2 = threading.Thread(target=thread2_task, args=(lock, 1, ))\n",
    " \n",
    "    t1.start()\n",
    "    t2.start()\n",
    " \n",
    "    t1.join()\n",
    "    t2.join()"
   ]
  },
  {
   "cell_type": "code",
   "execution_count": 17,
   "metadata": {},
   "outputs": [
    {
     "name": "stdout",
     "output_type": "stream",
     "text": [
      "Iteration 0: x = 20000\n",
      "Iteration 1: x = 20000\n",
      "Iteration 2: x = 20000\n"
     ]
    },
    {
     "ename": "KeyboardInterrupt",
     "evalue": "",
     "output_type": "error",
     "traceback": [
      "\u001b[0;31m---------------------------------------------------------------------------\u001b[0m",
      "\u001b[0;31mKeyboardInterrupt\u001b[0m                         Traceback (most recent call last)",
      "\u001b[0;32m/var/folders/mw/tkjdv8_56kd9c3js_hzvflqm0000gp/T/ipykernel_35505/3760445430.py\u001b[0m in \u001b[0;36m<module>\u001b[0;34m\u001b[0m\n\u001b[1;32m      1\u001b[0m \u001b[0;32mfor\u001b[0m \u001b[0mi\u001b[0m \u001b[0;32min\u001b[0m \u001b[0mrange\u001b[0m\u001b[0;34m(\u001b[0m\u001b[0;36m10\u001b[0m\u001b[0;34m)\u001b[0m\u001b[0;34m:\u001b[0m\u001b[0;34m\u001b[0m\u001b[0;34m\u001b[0m\u001b[0m\n\u001b[0;32m----> 2\u001b[0;31m     \u001b[0mmain_task\u001b[0m\u001b[0;34m(\u001b[0m\u001b[0;34m)\u001b[0m\u001b[0;34m\u001b[0m\u001b[0;34m\u001b[0m\u001b[0m\n\u001b[0m\u001b[1;32m      3\u001b[0m     \u001b[0mprint\u001b[0m\u001b[0;34m(\u001b[0m\u001b[0;34m\"Iteration {0}: x = {1}\"\u001b[0m\u001b[0;34m.\u001b[0m\u001b[0mformat\u001b[0m\u001b[0;34m(\u001b[0m\u001b[0mi\u001b[0m\u001b[0;34m,\u001b[0m\u001b[0mx\u001b[0m\u001b[0;34m)\u001b[0m\u001b[0;34m)\u001b[0m\u001b[0;34m\u001b[0m\u001b[0;34m\u001b[0m\u001b[0m\n",
      "\u001b[0;32m/var/folders/mw/tkjdv8_56kd9c3js_hzvflqm0000gp/T/ipykernel_35505/2282158615.py\u001b[0m in \u001b[0;36mmain_task\u001b[0;34m()\u001b[0m\n\u001b[1;32m     36\u001b[0m     \u001b[0mt2\u001b[0m\u001b[0;34m.\u001b[0m\u001b[0mstart\u001b[0m\u001b[0;34m(\u001b[0m\u001b[0;34m)\u001b[0m\u001b[0;34m\u001b[0m\u001b[0;34m\u001b[0m\u001b[0m\n\u001b[1;32m     37\u001b[0m \u001b[0;34m\u001b[0m\u001b[0m\n\u001b[0;32m---> 38\u001b[0;31m     \u001b[0mt1\u001b[0m\u001b[0;34m.\u001b[0m\u001b[0mjoin\u001b[0m\u001b[0;34m(\u001b[0m\u001b[0;34m)\u001b[0m\u001b[0;34m\u001b[0m\u001b[0;34m\u001b[0m\u001b[0m\n\u001b[0m\u001b[1;32m     39\u001b[0m     \u001b[0mt2\u001b[0m\u001b[0;34m.\u001b[0m\u001b[0mjoin\u001b[0m\u001b[0;34m(\u001b[0m\u001b[0;34m)\u001b[0m\u001b[0;34m\u001b[0m\u001b[0;34m\u001b[0m\u001b[0m\n",
      "\u001b[0;32m/Library/Frameworks/Python.framework/Versions/3.9/lib/python3.9/threading.py\u001b[0m in \u001b[0;36mjoin\u001b[0;34m(self, timeout)\u001b[0m\n\u001b[1;32m   1051\u001b[0m \u001b[0;34m\u001b[0m\u001b[0m\n\u001b[1;32m   1052\u001b[0m         \u001b[0;32mif\u001b[0m \u001b[0mtimeout\u001b[0m \u001b[0;32mis\u001b[0m \u001b[0;32mNone\u001b[0m\u001b[0;34m:\u001b[0m\u001b[0;34m\u001b[0m\u001b[0;34m\u001b[0m\u001b[0m\n\u001b[0;32m-> 1053\u001b[0;31m             \u001b[0mself\u001b[0m\u001b[0;34m.\u001b[0m\u001b[0m_wait_for_tstate_lock\u001b[0m\u001b[0;34m(\u001b[0m\u001b[0;34m)\u001b[0m\u001b[0;34m\u001b[0m\u001b[0;34m\u001b[0m\u001b[0m\n\u001b[0m\u001b[1;32m   1054\u001b[0m         \u001b[0;32melse\u001b[0m\u001b[0;34m:\u001b[0m\u001b[0;34m\u001b[0m\u001b[0;34m\u001b[0m\u001b[0m\n\u001b[1;32m   1055\u001b[0m             \u001b[0;31m# the behavior of a negative timeout isn't documented, but\u001b[0m\u001b[0;34m\u001b[0m\u001b[0;34m\u001b[0m\u001b[0;34m\u001b[0m\u001b[0m\n",
      "\u001b[0;32m/Library/Frameworks/Python.framework/Versions/3.9/lib/python3.9/threading.py\u001b[0m in \u001b[0;36m_wait_for_tstate_lock\u001b[0;34m(self, block, timeout)\u001b[0m\n\u001b[1;32m   1067\u001b[0m         \u001b[0;32mif\u001b[0m \u001b[0mlock\u001b[0m \u001b[0;32mis\u001b[0m \u001b[0;32mNone\u001b[0m\u001b[0;34m:\u001b[0m  \u001b[0;31m# already determined that the C code is done\u001b[0m\u001b[0;34m\u001b[0m\u001b[0;34m\u001b[0m\u001b[0m\n\u001b[1;32m   1068\u001b[0m             \u001b[0;32massert\u001b[0m \u001b[0mself\u001b[0m\u001b[0;34m.\u001b[0m\u001b[0m_is_stopped\u001b[0m\u001b[0;34m\u001b[0m\u001b[0;34m\u001b[0m\u001b[0m\n\u001b[0;32m-> 1069\u001b[0;31m         \u001b[0;32melif\u001b[0m \u001b[0mlock\u001b[0m\u001b[0;34m.\u001b[0m\u001b[0macquire\u001b[0m\u001b[0;34m(\u001b[0m\u001b[0mblock\u001b[0m\u001b[0;34m,\u001b[0m \u001b[0mtimeout\u001b[0m\u001b[0;34m)\u001b[0m\u001b[0;34m:\u001b[0m\u001b[0;34m\u001b[0m\u001b[0;34m\u001b[0m\u001b[0m\n\u001b[0m\u001b[1;32m   1070\u001b[0m             \u001b[0mlock\u001b[0m\u001b[0;34m.\u001b[0m\u001b[0mrelease\u001b[0m\u001b[0;34m(\u001b[0m\u001b[0;34m)\u001b[0m\u001b[0;34m\u001b[0m\u001b[0;34m\u001b[0m\u001b[0m\n\u001b[1;32m   1071\u001b[0m             \u001b[0mself\u001b[0m\u001b[0;34m.\u001b[0m\u001b[0m_stop\u001b[0m\u001b[0;34m(\u001b[0m\u001b[0;34m)\u001b[0m\u001b[0;34m\u001b[0m\u001b[0;34m\u001b[0m\u001b[0m\n",
      "\u001b[0;31mKeyboardInterrupt\u001b[0m: "
     ]
    }
   ],
   "source": [
    "for i in range(10):\n",
    "    main_task()\n",
    "    print(\"Iteration {0}: x = {1}\".format(i,x))"
   ]
  },
  {
   "cell_type": "markdown",
   "metadata": {},
   "source": [
    "**Demonstrate Bakery Algorithm with N threads**"
   ]
  },
  {
   "cell_type": "code",
   "execution_count": 2,
   "metadata": {},
   "outputs": [],
   "source": [
    "from bakery import Bakery\n",
    "\n",
    "x=0\n",
    "lock = Bakery(3)\n",
    "\n",
    "def increment():\n",
    "    global x\n",
    "    x += 1\n",
    " \n",
    "def thread1_task(lock, my_num):\n",
    "   \n",
    "    for _ in range(1000):\n",
    "\n",
    "        lock.lock(my_num)\n",
    "        increment()\n",
    "        lock.unlock(my_num)\n",
    " \n",
    "def thread2_task(lock, my_num):\n",
    "   \n",
    "    for _ in range(1000):\n",
    "\n",
    "        lock.lock(my_num)\n",
    "        increment()\n",
    "        lock.unlock(my_num)\n",
    "\n",
    "def thread3_task(lock, my_num):\n",
    "   \n",
    "    for _ in range(1000):\n",
    "\n",
    "        lock.lock(my_num)\n",
    "        increment()\n",
    "        lock.unlock(my_num)\n",
    " \n",
    "def main_task():\n",
    "    global x\n",
    "    global lock\n",
    " \n",
    "    x = 0\n",
    "   \n",
    "    t1 = threading.Thread(target=thread1_task, args=(lock, 0, ))\n",
    "    t2 = threading.Thread(target=thread2_task, args=(lock, 1, ))\n",
    "    t3 = threading.Thread(target=thread3_task, args=(lock, 2, ))\n",
    " \n",
    "    t1.start()\n",
    "    t2.start()\n",
    "    t3.start()\n",
    " \n",
    "    t1.join()\n",
    "    t2.join()\n",
    "    t3.join()"
   ]
  },
  {
   "cell_type": "code",
   "execution_count": 3,
   "metadata": {},
   "outputs": [
    {
     "name": "stdout",
     "output_type": "stream",
     "text": [
      "Iteration 0: x = 3000\n",
      "Iteration 1: x = 3000\n",
      "Iteration 2: x = 3000\n",
      "Iteration 3: x = 3000\n",
      "Iteration 4: x = 3000\n",
      "Iteration 5: x = 3000\n",
      "Iteration 6: x = 3000\n",
      "Iteration 7: x = 3000\n",
      "Iteration 8: x = 3000\n",
      "Iteration 9: x = 3000\n"
     ]
    }
   ],
   "source": [
    "for i in range(10):\n",
    "    main_task()\n",
    "    print(\"Iteration {0}: x = {1}\".format(i,x))"
   ]
  }
 ],
 "metadata": {
  "interpreter": {
   "hash": "b8bdd4e700647ba2b08c59e5df8b7da1dcf50a218bcd4c1bcd9b3dc92e8788e5"
  },
  "kernelspec": {
   "display_name": "Python 3.9.6 64-bit",
   "language": "python",
   "name": "python3"
  },
  "language_info": {
   "codemirror_mode": {
    "name": "ipython",
    "version": 3
   },
   "file_extension": ".py",
   "mimetype": "text/x-python",
   "name": "python",
   "nbconvert_exporter": "python",
   "pygments_lexer": "ipython3",
   "version": "3.9.6"
  },
  "orig_nbformat": 4
 },
 "nbformat": 4,
 "nbformat_minor": 2
}
